{
 "cells": [
  {
   "cell_type": "code",
   "execution_count": 18,
   "id": "db6d10aa",
   "metadata": {},
   "outputs": [],
   "source": [
    "# Configure matplotlib.\n",
    "%matplotlib inline\n",
    "\n",
    "# Unclutter the display.\n",
    "import pandas as pd; pd.set_option('max_columns', 6)\n",
    "import geopandas as gpd\n",
    "import geoplot as gplt"
   ]
  },
  {
   "cell_type": "code",
   "execution_count": 19,
   "id": "506a2a79",
   "metadata": {},
   "outputs": [
    {
     "data": {
      "text/html": [
       "<div>\n",
       "<style scoped>\n",
       "    .dataframe tbody tr th:only-of-type {\n",
       "        vertical-align: middle;\n",
       "    }\n",
       "\n",
       "    .dataframe tbody tr th {\n",
       "        vertical-align: top;\n",
       "    }\n",
       "\n",
       "    .dataframe thead th {\n",
       "        text-align: right;\n",
       "    }\n",
       "</style>\n",
       "<table border=\"1\" class=\"dataframe\">\n",
       "  <thead>\n",
       "    <tr style=\"text-align: right;\">\n",
       "      <th></th>\n",
       "      <th>OBJECTID</th>\n",
       "      <th>INCIDENT</th>\n",
       "      <th>FIRE_YEAR_</th>\n",
       "      <th>...</th>\n",
       "      <th>SHAPE_Leng</th>\n",
       "      <th>SHAPE_Area</th>\n",
       "      <th>geometry</th>\n",
       "    </tr>\n",
       "  </thead>\n",
       "  <tbody>\n",
       "    <tr>\n",
       "      <th>0</th>\n",
       "      <td>7348</td>\n",
       "      <td>VICS PEAK</td>\n",
       "      <td>2020</td>\n",
       "      <td>...</td>\n",
       "      <td>1.812773</td>\n",
       "      <td>0.005747</td>\n",
       "      <td>MULTIPOLYGON (((-107.45431 33.61050, -107.4542...</td>\n",
       "    </tr>\n",
       "    <tr>\n",
       "      <th>1</th>\n",
       "      <td>7349</td>\n",
       "      <td>Cub</td>\n",
       "      <td>2020</td>\n",
       "      <td>...</td>\n",
       "      <td>1.832110</td>\n",
       "      <td>0.008422</td>\n",
       "      <td>MULTIPOLYGON (((-108.53574 33.31908, -108.5358...</td>\n",
       "    </tr>\n",
       "    <tr>\n",
       "      <th>2</th>\n",
       "      <td>7350</td>\n",
       "      <td>Bearpaw Mountain</td>\n",
       "      <td>2020</td>\n",
       "      <td>...</td>\n",
       "      <td>0.215212</td>\n",
       "      <td>0.000498</td>\n",
       "      <td>POLYGON ((-151.02800 63.89567, -151.02730 63.8...</td>\n",
       "    </tr>\n",
       "    <tr>\n",
       "      <th>3</th>\n",
       "      <td>7351</td>\n",
       "      <td>Wood Springs 2</td>\n",
       "      <td>2020</td>\n",
       "      <td>...</td>\n",
       "      <td>0.586789</td>\n",
       "      <td>0.005197</td>\n",
       "      <td>MULTIPOLYGON (((-109.28103 35.96077, -109.2764...</td>\n",
       "    </tr>\n",
       "    <tr>\n",
       "      <th>4</th>\n",
       "      <td>7352</td>\n",
       "      <td>Sheenjek River</td>\n",
       "      <td>2020</td>\n",
       "      <td>...</td>\n",
       "      <td>0.521669</td>\n",
       "      <td>0.003228</td>\n",
       "      <td>POLYGON ((-144.41281 67.21048, -144.41259 67.2...</td>\n",
       "    </tr>\n",
       "  </tbody>\n",
       "</table>\n",
       "<p>5 rows × 18 columns</p>\n",
       "</div>"
      ],
      "text/plain": [
       "   OBJECTID          INCIDENT  FIRE_YEAR_  ... SHAPE_Leng SHAPE_Area  \\\n",
       "0      7348         VICS PEAK        2020  ...   1.812773   0.005747   \n",
       "1      7349               Cub        2020  ...   1.832110   0.008422   \n",
       "2      7350  Bearpaw Mountain        2020  ...   0.215212   0.000498   \n",
       "3      7351    Wood Springs 2        2020  ...   0.586789   0.005197   \n",
       "4      7352    Sheenjek River        2020  ...   0.521669   0.003228   \n",
       "\n",
       "                                            geometry  \n",
       "0  MULTIPOLYGON (((-107.45431 33.61050, -107.4542...  \n",
       "1  MULTIPOLYGON (((-108.53574 33.31908, -108.5358...  \n",
       "2  POLYGON ((-151.02800 63.89567, -151.02730 63.8...  \n",
       "3  MULTIPOLYGON (((-109.28103 35.96077, -109.2764...  \n",
       "4  POLYGON ((-144.41281 67.21048, -144.41259 67.2...  \n",
       "\n",
       "[5 rows x 18 columns]"
      ]
     },
     "execution_count": 19,
     "metadata": {},
     "output_type": "execute_result"
    }
   ],
   "source": [
    "data = gpd.read_file(\"data/WFDSSHistoricFirePerimeters_2020.shp\")\n",
    "data.head()"
   ]
  },
  {
   "cell_type": "code",
   "execution_count": 28,
   "id": "c13ffb4c",
   "metadata": {},
   "outputs": [
    {
     "data": {
      "text/html": [
       "<div>\n",
       "<style scoped>\n",
       "    .dataframe tbody tr th:only-of-type {\n",
       "        vertical-align: middle;\n",
       "    }\n",
       "\n",
       "    .dataframe tbody tr th {\n",
       "        vertical-align: top;\n",
       "    }\n",
       "\n",
       "    .dataframe thead th {\n",
       "        text-align: right;\n",
       "    }\n",
       "</style>\n",
       "<table border=\"1\" class=\"dataframe\">\n",
       "  <thead>\n",
       "    <tr style=\"text-align: right;\">\n",
       "      <th></th>\n",
       "      <th>state</th>\n",
       "      <th>adm1_code</th>\n",
       "      <th>population</th>\n",
       "      <th>geometry</th>\n",
       "    </tr>\n",
       "  </thead>\n",
       "  <tbody>\n",
       "    <tr>\n",
       "      <th>4</th>\n",
       "      <td>Washington</td>\n",
       "      <td>USA-3519</td>\n",
       "      <td>6724540</td>\n",
       "      <td>POLYGON ((-116.99807 46.33017, -116.90653 46.1...</td>\n",
       "    </tr>\n",
       "    <tr>\n",
       "      <th>6</th>\n",
       "      <td>California</td>\n",
       "      <td>USA-3521</td>\n",
       "      <td>37253956</td>\n",
       "      <td>POLYGON ((-114.35490 34.46467, -114.16597 34.2...</td>\n",
       "    </tr>\n",
       "    <tr>\n",
       "      <th>10</th>\n",
       "      <td>Oregon</td>\n",
       "      <td>USA-3525</td>\n",
       "      <td>3831074</td>\n",
       "      <td>POLYGON ((-117.02825 42.00002, -117.02825 41.9...</td>\n",
       "    </tr>\n",
       "  </tbody>\n",
       "</table>\n",
       "</div>"
      ],
      "text/plain": [
       "         state adm1_code  population  \\\n",
       "4   Washington  USA-3519     6724540   \n",
       "6   California  USA-3521    37253956   \n",
       "10      Oregon  USA-3525     3831074   \n",
       "\n",
       "                                             geometry  \n",
       "4   POLYGON ((-116.99807 46.33017, -116.90653 46.1...  \n",
       "6   POLYGON ((-114.35490 34.46467, -114.16597 34.2...  \n",
       "10  POLYGON ((-117.02825 42.00002, -117.02825 41.9...  "
      ]
     },
     "execution_count": 28,
     "metadata": {},
     "output_type": "execute_result"
    }
   ],
   "source": [
    "import geoplot.crs as gcrs\n",
    "contiguous_usa = gpd.read_file(gplt.datasets.get_path('contiguous_usa'))"
   ]
  },
  {
   "cell_type": "code",
   "execution_count": 41,
   "id": "91bb4a76",
   "metadata": {},
   "outputs": [
    {
     "data": {
      "text/plain": [
       "<GeoAxesSubplot:>"
      ]
     },
     "execution_count": 41,
     "metadata": {},
     "output_type": "execute_result"
    },
    {
     "data": {
      "image/png": "[encoded data removed]",
      "text/plain": [
       "<Figure size 576x432 with 1 Axes>"
      ]
     },
     "metadata": {
      "needs_background": "light"
     },
     "output_type": "display_data"
    }
   ],
   "source": [
    "extent = contiguous_usa.query(\"state == ['California', 'Oregon', 'Washington']\").total_bounds\n",
    "ax = gplt.polyplot(\n",
    "    contiguous_usa,\n",
    "    projection=gcrs.AlbersEqualArea()\n",
    ")\n",
    "gplt.polyplot(data, ax=ax, figsize=(20, 20), extent=extent, projection=gcrs.AlbersEqualArea())"
   ]
  },
  {
   "cell_type": "code",
   "execution_count": null,
   "id": "d9407e46",
   "metadata": {},
   "outputs": [],
   "source": []
  }
 ],
 "metadata": {
  "kernelspec": {
   "display_name": "fire",
   "language": "python",
   "name": "fire"
  },
  "language_info": {
   "codemirror_mode": {
    "name": "ipython",
    "version": 3
   },
   "file_extension": ".py",
   "mimetype": "text/x-python",
   "name": "python",
   "nbconvert_exporter": "python",
   "pygments_lexer": "ipython3",
   "version": "3.9.7"
  }
 },
 "nbformat": 4,
 "nbformat_minor": 5
}
